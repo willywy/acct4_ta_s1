{
 "cells": [
  {
   "cell_type": "markdown",
   "id": "lIUr6S4pyPl0",
   "metadata": {
    "id": "lIUr6S4pyPl0"
   },
   "source": [
    "This file: Upload input file and get GPT response\n",
    "\n",
    "input_file\n",
    "- 1_batch_api_input.jsonl\n",
    "\n",
    "output_file\n",
    "- 2_batch_api_output.jsonl\""
   ]
  },
  {
   "cell_type": "code",
   "execution_count": 2,
   "id": "1180deca",
   "metadata": {
    "executionInfo": {
     "elapsed": 1289,
     "status": "ok",
     "timestamp": 1747863503248,
     "user": {
      "displayName": "Yiyang Wu",
      "userId": "14558260507896847088"
     },
     "user_tz": -120
    },
    "id": "1180deca"
   },
   "outputs": [],
   "source": [
    "import openai\n",
    "import time\n",
    "import requests\n",
    "import os"
   ]
  },
  {
   "cell_type": "markdown",
   "id": "MZM9k_dGyOpf",
   "metadata": {
    "id": "MZM9k_dGyOpf"
   },
   "source": [
    "Notice: If you're using colab, run the following two cells"
   ]
  },
  {
   "cell_type": "code",
   "execution_count": 1,
   "id": "Wg0UJMbux1KJ",
   "metadata": {
    "colab": {
     "base_uri": "https://localhost:8080/"
    },
    "executionInfo": {
     "elapsed": 16051,
     "status": "ok",
     "timestamp": 1747863443724,
     "user": {
      "displayName": "Yiyang Wu",
      "userId": "14558260507896847088"
     },
     "user_tz": -120
    },
    "id": "Wg0UJMbux1KJ",
    "outputId": "03a0c329-30e6-40ee-92ac-e45c0edf0c8e"
   },
   "outputs": [
    {
     "name": "stdout",
     "output_type": "stream",
     "text": [
      "Mounted at /content/drive\n"
     ]
    }
   ],
   "source": [
    "from google.colab import drive\n",
    "drive.mount('/content/drive')"
   ]
  },
  {
   "cell_type": "code",
   "execution_count": 3,
   "id": "Or0w2rHax467",
   "metadata": {
    "executionInfo": {
     "elapsed": 8,
     "status": "ok",
     "timestamp": 1747863504493,
     "user": {
      "displayName": "Yiyang Wu",
      "userId": "14558260507896847088"
     },
     "user_tz": -120
    },
    "id": "Or0w2rHax467"
   },
   "outputs": [],
   "source": [
    "os.chdir('/content/drive/MyDrive/Colab Notebooks/acct4_ta_s1')"
   ]
  },
  {
   "cell_type": "markdown",
   "id": "-JHyoyyzyUBN",
   "metadata": {
    "id": "-JHyoyyzyUBN"
   },
   "source": [
    "# Set OpenAI API key and File Path"
   ]
  },
  {
   "cell_type": "markdown",
   "id": "HJPbM2oezWUv",
   "metadata": {
    "id": "HJPbM2oezWUv"
   },
   "source": [
    "get your api key from https://platform.openai.com/api-keys"
   ]
  },
  {
   "cell_type": "code",
   "execution_count": null,
   "id": "kguKEhJaxzXQ",
   "metadata": {
    "executionInfo": {
     "elapsed": 3,
     "status": "ok",
     "timestamp": 1747863514572,
     "user": {
      "displayName": "Yiyang Wu",
      "userId": "14558260507896847088"
     },
     "user_tz": -120
    },
    "id": "kguKEhJaxzXQ"
   },
   "outputs": [],
   "source": [
    "with open(r\"api_key.txt\", \"r\") as f:\n",
    "    openai.api_key = f.read().strip()\n",
    "\n",
    "input_file = \"1_batch_api_input.jsonl\"\n",
    "output_file = \"2_batch_api_output.jsonl\""
   ]
  },
  {
   "cell_type": "markdown",
   "id": "_-gg0GMdycVE",
   "metadata": {
    "id": "_-gg0GMdycVE"
   },
   "source": [
    "## Upload JSONL input, Monitor, and Download Result"
   ]
  },
  {
   "cell_type": "code",
   "execution_count": 5,
   "id": "934f3f74",
   "metadata": {
    "executionInfo": {
     "elapsed": 422,
     "status": "ok",
     "timestamp": 1747863524192,
     "user": {
      "displayName": "Yiyang Wu",
      "userId": "14558260507896847088"
     },
     "user_tz": -120
    },
    "id": "934f3f74"
   },
   "outputs": [],
   "source": [
    "client = openai.Client(api_key=openai.api_key)\n",
    "\n",
    "# === Step 1: Upload the batch job ===\n",
    "def submit_batch_job(jsonl_file_path):\n",
    "    batch_input_file = client.files.create(\n",
    "        file=open(jsonl_file_path, \"rb\"),\n",
    "        purpose=\"batch\"\n",
    "    )\n",
    "    batch_input_file_id = batch_input_file.id\n",
    "\n",
    "    batch = client.batches.create(\n",
    "        input_file_id=batch_input_file_id,\n",
    "        endpoint=\"/v1/chat/completions\",\n",
    "        completion_window=\"24h\"\n",
    "    )\n",
    "    print(f\"Batch job submitted. Batch ID: {batch.id}\")\n",
    "    return batch.id\n",
    "\n",
    "\n",
    "# === Step 2: Monitor the batch job ===\n",
    "def monitor_batch_job(batch_id, interval=60):\n",
    "    while True:\n",
    "        batch = client.batches.retrieve(batch_id)\n",
    "        status = batch.status\n",
    "        print(f\"Batch Status: {status}\")\n",
    "        if status in [\"completed\", \"failed\", \"cancelled\"]:\n",
    "            break\n",
    "        time.sleep(interval)\n",
    "    return batch\n",
    "\n",
    "\n",
    "# === Step 3: Download results ===\n",
    "def download_results(batch, output_file):\n",
    "    if batch.status == \"completed\":\n",
    "        output_url = batch.output_file_id\n",
    "        response = client.files.content(output_url)\n",
    "\n",
    "        with open(output_file, \"wb\") as f:\n",
    "            f.write(response.content)\n",
    "        print(f\"Batch results downloaded to {output_file}\")\n",
    "    else:\n",
    "        print(\"WARNING! Batch job did not complete successfully.\")"
   ]
  },
  {
   "cell_type": "code",
   "execution_count": 6,
   "id": "78e0f03c",
   "metadata": {
    "colab": {
     "base_uri": "https://localhost:8080/"
    },
    "executionInfo": {
     "elapsed": 123600,
     "status": "ok",
     "timestamp": 1747863649835,
     "user": {
      "displayName": "Yiyang Wu",
      "userId": "14558260507896847088"
     },
     "user_tz": -120
    },
    "id": "78e0f03c",
    "outputId": "30457caf-9436-4cf0-9a67-0673cc8a6219"
   },
   "outputs": [
    {
     "name": "stdout",
     "output_type": "stream",
     "text": [
      "Batch job submitted. Batch ID: batch_682e47e869a881909f3521e21b5bf19a\n",
      "Batch Status: validating\n",
      "Batch Status: in_progress\n",
      "Batch Status: completed\n",
      "Batch results downloaded to 2_batch_api_output.jsonl\n"
     ]
    }
   ],
   "source": [
    "batch_id = submit_batch_job(input_file)\n",
    "# batch_id = \"\"  # Replace with actual batch ID\n",
    "\n",
    "batch = monitor_batch_job(batch_id)\n",
    "download_results(batch, output_file)"
   ]
  }
 ],
 "metadata": {
  "colab": {
   "provenance": []
  },
  "kernelspec": {
   "display_name": "openai",
   "language": "python",
   "name": "python3"
  },
  "language_info": {
   "codemirror_mode": {
    "name": "ipython",
    "version": 3
   },
   "file_extension": ".py",
   "mimetype": "text/x-python",
   "name": "python",
   "nbconvert_exporter": "python",
   "pygments_lexer": "ipython3",
   "version": "3.12.8"
  }
 },
 "nbformat": 4,
 "nbformat_minor": 5
}
